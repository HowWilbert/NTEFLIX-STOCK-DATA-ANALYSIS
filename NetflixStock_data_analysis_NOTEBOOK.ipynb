{
 "cells": [
  {
   "cell_type": "code",
   "execution_count": 1,
   "id": "d920f5fe",
   "metadata": {},
   "outputs": [],
   "source": [
    "import pandas as pd\n",
    "import seaborn as sns\n",
    "import matplotlib.pyplot as plt\n",
    "from mplfinance.original_flavor import candlestick_ohlc\n",
    "import matplotlib.dates as mdates\n",
    "import tabulate\n"
   ]
  },
  {
   "cell_type": "code",
   "execution_count": 2,
   "id": "6a612962",
   "metadata": {},
   "outputs": [
    {
     "name": "stdout",
     "output_type": "stream",
     "text": [
      "            Date        Close         High          Low         Open  \\\n",
      "0     2002-05-23     1.196429     1.242857     1.145714     1.156429   \n",
      "1     2002-05-24     1.210000     1.225000     1.197143     1.214286   \n",
      "2     2002-05-28     1.157143     1.232143     1.157143     1.213571   \n",
      "3     2002-05-29     1.103571     1.164286     1.085714     1.164286   \n",
      "4     2002-05-30     1.071429     1.107857     1.071429     1.107857   \n",
      "...          ...          ...          ...          ...          ...   \n",
      "5812  2025-06-30  1339.130005  1341.150024  1321.209961  1331.000000   \n",
      "5813  2025-07-01  1293.599976  1338.770020  1282.219971  1338.229980   \n",
      "5814  2025-07-02  1284.859985  1299.949951  1271.589966  1296.959961   \n",
      "5815  2025-07-03  1297.180054  1302.260010  1279.760010  1292.000000   \n",
      "5816  2025-07-07  1289.619995  1295.000000  1276.020020  1295.000000   \n",
      "\n",
      "         Volume  \n",
      "0     104790000  \n",
      "1      11104800  \n",
      "2       6609400  \n",
      "3       6757800  \n",
      "4      10154200  \n",
      "...         ...  \n",
      "5812    3282900  \n",
      "5813    4993600  \n",
      "5814    3048800  \n",
      "5815    2006200  \n",
      "5816    2271400  \n",
      "\n",
      "[5817 rows x 6 columns]\n"
     ]
    }
   ],
   "source": [
    "df = pd.read_csv(r'd:\\PROJECTS\\Projects in 2025\\NetflixStockpredictor\\Netflix_stock_data.csv')\n",
    "print(df)"
   ]
  }
 ],
 "metadata": {
  "kernelspec": {
   "display_name": "Python 3",
   "language": "python",
   "name": "python3"
  },
  "language_info": {
   "codemirror_mode": {
    "name": "ipython",
    "version": 3
   },
   "file_extension": ".py",
   "mimetype": "text/x-python",
   "name": "python",
   "nbconvert_exporter": "python",
   "pygments_lexer": "ipython3",
   "version": "3.11.9"
  }
 },
 "nbformat": 4,
 "nbformat_minor": 5
}
